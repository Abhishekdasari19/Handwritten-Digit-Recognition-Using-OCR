{
 "cells": [
  {
   "cell_type": "code",
   "execution_count": 1,
   "id": "8ba3700f",
   "metadata": {},
   "outputs": [],
   "source": [
    "import numpy as np\n",
    "from tensorflow.keras.datasets import mnist\n",
    "from tensorflow.keras.models import Sequential\n",
    "from tensorflow.keras.layers import Conv2D, MaxPooling2D, Flatten, Dense, Dropout\n",
    "from tensorflow.keras.utils import to_categorical"
   ]
  },
  {
   "cell_type": "code",
   "execution_count": 2,
   "id": "d897ff51",
   "metadata": {},
   "outputs": [
    {
     "name": "stderr",
     "output_type": "stream",
     "text": [
      "C:\\Users\\Shree\\anaconda3\\Lib\\site-packages\\keras\\src\\layers\\convolutional\\base_conv.py:107: UserWarning: Do not pass an `input_shape`/`input_dim` argument to a layer. When using Sequential models, prefer using an `Input(shape)` object as the first layer in the model instead.\n",
      "  super().__init__(activity_regularizer=activity_regularizer, **kwargs)\n"
     ]
    },
    {
     "data": {
      "text/html": [
       "<pre style=\"white-space:pre;overflow-x:auto;line-height:normal;font-family:Menlo,'DejaVu Sans Mono',consolas,'Courier New',monospace\"><span style=\"font-weight: bold\">Model: \"sequential\"</span>\n",
       "</pre>\n"
      ],
      "text/plain": [
       "\u001b[1mModel: \"sequential\"\u001b[0m\n"
      ]
     },
     "metadata": {},
     "output_type": "display_data"
    },
    {
     "data": {
      "text/html": [
       "<pre style=\"white-space:pre;overflow-x:auto;line-height:normal;font-family:Menlo,'DejaVu Sans Mono',consolas,'Courier New',monospace\">┏━━━━━━━━━━━━━━━━━━━━━━━━━━━━━━━━━━━━━━┳━━━━━━━━━━━━━━━━━━━━━━━━━━━━━┳━━━━━━━━━━━━━━━━━┓\n",
       "┃<span style=\"font-weight: bold\"> Layer (type)                         </span>┃<span style=\"font-weight: bold\"> Output Shape                </span>┃<span style=\"font-weight: bold\">         Param # </span>┃\n",
       "┡━━━━━━━━━━━━━━━━━━━━━━━━━━━━━━━━━━━━━━╇━━━━━━━━━━━━━━━━━━━━━━━━━━━━━╇━━━━━━━━━━━━━━━━━┩\n",
       "│ conv2d (<span style=\"color: #0087ff; text-decoration-color: #0087ff\">Conv2D</span>)                      │ (<span style=\"color: #00d7ff; text-decoration-color: #00d7ff\">None</span>, <span style=\"color: #00af00; text-decoration-color: #00af00\">26</span>, <span style=\"color: #00af00; text-decoration-color: #00af00\">26</span>, <span style=\"color: #00af00; text-decoration-color: #00af00\">32</span>)          │             <span style=\"color: #00af00; text-decoration-color: #00af00\">320</span> │\n",
       "├──────────────────────────────────────┼─────────────────────────────┼─────────────────┤\n",
       "│ max_pooling2d (<span style=\"color: #0087ff; text-decoration-color: #0087ff\">MaxPooling2D</span>)         │ (<span style=\"color: #00d7ff; text-decoration-color: #00d7ff\">None</span>, <span style=\"color: #00af00; text-decoration-color: #00af00\">13</span>, <span style=\"color: #00af00; text-decoration-color: #00af00\">13</span>, <span style=\"color: #00af00; text-decoration-color: #00af00\">32</span>)          │               <span style=\"color: #00af00; text-decoration-color: #00af00\">0</span> │\n",
       "├──────────────────────────────────────┼─────────────────────────────┼─────────────────┤\n",
       "│ conv2d_1 (<span style=\"color: #0087ff; text-decoration-color: #0087ff\">Conv2D</span>)                    │ (<span style=\"color: #00d7ff; text-decoration-color: #00d7ff\">None</span>, <span style=\"color: #00af00; text-decoration-color: #00af00\">11</span>, <span style=\"color: #00af00; text-decoration-color: #00af00\">11</span>, <span style=\"color: #00af00; text-decoration-color: #00af00\">64</span>)          │          <span style=\"color: #00af00; text-decoration-color: #00af00\">18,496</span> │\n",
       "├──────────────────────────────────────┼─────────────────────────────┼─────────────────┤\n",
       "│ max_pooling2d_1 (<span style=\"color: #0087ff; text-decoration-color: #0087ff\">MaxPooling2D</span>)       │ (<span style=\"color: #00d7ff; text-decoration-color: #00d7ff\">None</span>, <span style=\"color: #00af00; text-decoration-color: #00af00\">5</span>, <span style=\"color: #00af00; text-decoration-color: #00af00\">5</span>, <span style=\"color: #00af00; text-decoration-color: #00af00\">64</span>)            │               <span style=\"color: #00af00; text-decoration-color: #00af00\">0</span> │\n",
       "├──────────────────────────────────────┼─────────────────────────────┼─────────────────┤\n",
       "│ flatten (<span style=\"color: #0087ff; text-decoration-color: #0087ff\">Flatten</span>)                    │ (<span style=\"color: #00d7ff; text-decoration-color: #00d7ff\">None</span>, <span style=\"color: #00af00; text-decoration-color: #00af00\">1600</span>)                │               <span style=\"color: #00af00; text-decoration-color: #00af00\">0</span> │\n",
       "├──────────────────────────────────────┼─────────────────────────────┼─────────────────┤\n",
       "│ dense (<span style=\"color: #0087ff; text-decoration-color: #0087ff\">Dense</span>)                        │ (<span style=\"color: #00d7ff; text-decoration-color: #00d7ff\">None</span>, <span style=\"color: #00af00; text-decoration-color: #00af00\">128</span>)                 │         <span style=\"color: #00af00; text-decoration-color: #00af00\">204,928</span> │\n",
       "├──────────────────────────────────────┼─────────────────────────────┼─────────────────┤\n",
       "│ dropout (<span style=\"color: #0087ff; text-decoration-color: #0087ff\">Dropout</span>)                    │ (<span style=\"color: #00d7ff; text-decoration-color: #00d7ff\">None</span>, <span style=\"color: #00af00; text-decoration-color: #00af00\">128</span>)                 │               <span style=\"color: #00af00; text-decoration-color: #00af00\">0</span> │\n",
       "├──────────────────────────────────────┼─────────────────────────────┼─────────────────┤\n",
       "│ dense_1 (<span style=\"color: #0087ff; text-decoration-color: #0087ff\">Dense</span>)                      │ (<span style=\"color: #00d7ff; text-decoration-color: #00d7ff\">None</span>, <span style=\"color: #00af00; text-decoration-color: #00af00\">10</span>)                  │           <span style=\"color: #00af00; text-decoration-color: #00af00\">1,290</span> │\n",
       "└──────────────────────────────────────┴─────────────────────────────┴─────────────────┘\n",
       "</pre>\n"
      ],
      "text/plain": [
       "┏━━━━━━━━━━━━━━━━━━━━━━━━━━━━━━━━━━━━━━┳━━━━━━━━━━━━━━━━━━━━━━━━━━━━━┳━━━━━━━━━━━━━━━━━┓\n",
       "┃\u001b[1m \u001b[0m\u001b[1mLayer (type)                        \u001b[0m\u001b[1m \u001b[0m┃\u001b[1m \u001b[0m\u001b[1mOutput Shape               \u001b[0m\u001b[1m \u001b[0m┃\u001b[1m \u001b[0m\u001b[1m        Param #\u001b[0m\u001b[1m \u001b[0m┃\n",
       "┡━━━━━━━━━━━━━━━━━━━━━━━━━━━━━━━━━━━━━━╇━━━━━━━━━━━━━━━━━━━━━━━━━━━━━╇━━━━━━━━━━━━━━━━━┩\n",
       "│ conv2d (\u001b[38;5;33mConv2D\u001b[0m)                      │ (\u001b[38;5;45mNone\u001b[0m, \u001b[38;5;34m26\u001b[0m, \u001b[38;5;34m26\u001b[0m, \u001b[38;5;34m32\u001b[0m)          │             \u001b[38;5;34m320\u001b[0m │\n",
       "├──────────────────────────────────────┼─────────────────────────────┼─────────────────┤\n",
       "│ max_pooling2d (\u001b[38;5;33mMaxPooling2D\u001b[0m)         │ (\u001b[38;5;45mNone\u001b[0m, \u001b[38;5;34m13\u001b[0m, \u001b[38;5;34m13\u001b[0m, \u001b[38;5;34m32\u001b[0m)          │               \u001b[38;5;34m0\u001b[0m │\n",
       "├──────────────────────────────────────┼─────────────────────────────┼─────────────────┤\n",
       "│ conv2d_1 (\u001b[38;5;33mConv2D\u001b[0m)                    │ (\u001b[38;5;45mNone\u001b[0m, \u001b[38;5;34m11\u001b[0m, \u001b[38;5;34m11\u001b[0m, \u001b[38;5;34m64\u001b[0m)          │          \u001b[38;5;34m18,496\u001b[0m │\n",
       "├──────────────────────────────────────┼─────────────────────────────┼─────────────────┤\n",
       "│ max_pooling2d_1 (\u001b[38;5;33mMaxPooling2D\u001b[0m)       │ (\u001b[38;5;45mNone\u001b[0m, \u001b[38;5;34m5\u001b[0m, \u001b[38;5;34m5\u001b[0m, \u001b[38;5;34m64\u001b[0m)            │               \u001b[38;5;34m0\u001b[0m │\n",
       "├──────────────────────────────────────┼─────────────────────────────┼─────────────────┤\n",
       "│ flatten (\u001b[38;5;33mFlatten\u001b[0m)                    │ (\u001b[38;5;45mNone\u001b[0m, \u001b[38;5;34m1600\u001b[0m)                │               \u001b[38;5;34m0\u001b[0m │\n",
       "├──────────────────────────────────────┼─────────────────────────────┼─────────────────┤\n",
       "│ dense (\u001b[38;5;33mDense\u001b[0m)                        │ (\u001b[38;5;45mNone\u001b[0m, \u001b[38;5;34m128\u001b[0m)                 │         \u001b[38;5;34m204,928\u001b[0m │\n",
       "├──────────────────────────────────────┼─────────────────────────────┼─────────────────┤\n",
       "│ dropout (\u001b[38;5;33mDropout\u001b[0m)                    │ (\u001b[38;5;45mNone\u001b[0m, \u001b[38;5;34m128\u001b[0m)                 │               \u001b[38;5;34m0\u001b[0m │\n",
       "├──────────────────────────────────────┼─────────────────────────────┼─────────────────┤\n",
       "│ dense_1 (\u001b[38;5;33mDense\u001b[0m)                      │ (\u001b[38;5;45mNone\u001b[0m, \u001b[38;5;34m10\u001b[0m)                  │           \u001b[38;5;34m1,290\u001b[0m │\n",
       "└──────────────────────────────────────┴─────────────────────────────┴─────────────────┘\n"
      ]
     },
     "metadata": {},
     "output_type": "display_data"
    },
    {
     "data": {
      "text/html": [
       "<pre style=\"white-space:pre;overflow-x:auto;line-height:normal;font-family:Menlo,'DejaVu Sans Mono',consolas,'Courier New',monospace\"><span style=\"font-weight: bold\"> Total params: </span><span style=\"color: #00af00; text-decoration-color: #00af00\">225,034</span> (879.04 KB)\n",
       "</pre>\n"
      ],
      "text/plain": [
       "\u001b[1m Total params: \u001b[0m\u001b[38;5;34m225,034\u001b[0m (879.04 KB)\n"
      ]
     },
     "metadata": {},
     "output_type": "display_data"
    },
    {
     "data": {
      "text/html": [
       "<pre style=\"white-space:pre;overflow-x:auto;line-height:normal;font-family:Menlo,'DejaVu Sans Mono',consolas,'Courier New',monospace\"><span style=\"font-weight: bold\"> Trainable params: </span><span style=\"color: #00af00; text-decoration-color: #00af00\">225,034</span> (879.04 KB)\n",
       "</pre>\n"
      ],
      "text/plain": [
       "\u001b[1m Trainable params: \u001b[0m\u001b[38;5;34m225,034\u001b[0m (879.04 KB)\n"
      ]
     },
     "metadata": {},
     "output_type": "display_data"
    },
    {
     "data": {
      "text/html": [
       "<pre style=\"white-space:pre;overflow-x:auto;line-height:normal;font-family:Menlo,'DejaVu Sans Mono',consolas,'Courier New',monospace\"><span style=\"font-weight: bold\"> Non-trainable params: </span><span style=\"color: #00af00; text-decoration-color: #00af00\">0</span> (0.00 B)\n",
       "</pre>\n"
      ],
      "text/plain": [
       "\u001b[1m Non-trainable params: \u001b[0m\u001b[38;5;34m0\u001b[0m (0.00 B)\n"
      ]
     },
     "metadata": {},
     "output_type": "display_data"
    }
   ],
   "source": [
    "model = Sequential([\n",
    "    Conv2D(32, (3, 3), activation='relu', input_shape=(28, 28, 1)),\n",
    "    MaxPooling2D(pool_size=(2, 2)),\n",
    "    Conv2D(64, (3, 3), activation='relu'),\n",
    "    MaxPooling2D(pool_size=(2, 2)),\n",
    "    Flatten(),\n",
    "    Dense(128, activation='relu'),\n",
    "    Dropout(0.5),\n",
    "    Dense(10, activation='softmax')  \n",
    "])\n",
    "\n",
    "model.compile(optimizer='adam', loss='sparse_categorical_crossentropy', metrics=['accuracy'])\n",
    "model.summary()\n"
   ]
  },
  {
   "cell_type": "code",
   "execution_count": 4,
   "id": "7728e9e8",
   "metadata": {},
   "outputs": [
    {
     "name": "stdout",
     "output_type": "stream",
     "text": [
      "Downloading data from https://storage.googleapis.com/tensorflow/tf-keras-datasets/mnist.npz\n",
      "\u001b[1m11490434/11490434\u001b[0m \u001b[32m━━━━━━━━━━━━━━━━━━━━\u001b[0m\u001b[37m\u001b[0m \u001b[1m3s\u001b[0m 0us/step\n",
      "Epoch 1/10\n",
      "\u001b[1m1875/1875\u001b[0m \u001b[32m━━━━━━━━━━━━━━━━━━━━\u001b[0m\u001b[37m\u001b[0m \u001b[1m36s\u001b[0m 18ms/step - accuracy: 0.8723 - loss: 0.4002 - val_accuracy: 0.9869 - val_loss: 0.0391\n",
      "Epoch 2/10\n",
      "\u001b[1m1875/1875\u001b[0m \u001b[32m━━━━━━━━━━━━━━━━━━━━\u001b[0m\u001b[37m\u001b[0m \u001b[1m36s\u001b[0m 19ms/step - accuracy: 0.9769 - loss: 0.0767 - val_accuracy: 0.9887 - val_loss: 0.0334\n",
      "Epoch 3/10\n",
      "\u001b[1m1875/1875\u001b[0m \u001b[32m━━━━━━━━━━━━━━━━━━━━\u001b[0m\u001b[37m\u001b[0m \u001b[1m35s\u001b[0m 19ms/step - accuracy: 0.9846 - loss: 0.0495 - val_accuracy: 0.9911 - val_loss: 0.0268\n",
      "Epoch 4/10\n",
      "\u001b[1m1875/1875\u001b[0m \u001b[32m━━━━━━━━━━━━━━━━━━━━\u001b[0m\u001b[37m\u001b[0m \u001b[1m36s\u001b[0m 19ms/step - accuracy: 0.9875 - loss: 0.0434 - val_accuracy: 0.9903 - val_loss: 0.0324\n",
      "Epoch 5/10\n",
      "\u001b[1m1875/1875\u001b[0m \u001b[32m━━━━━━━━━━━━━━━━━━━━\u001b[0m\u001b[37m\u001b[0m \u001b[1m37s\u001b[0m 20ms/step - accuracy: 0.9895 - loss: 0.0334 - val_accuracy: 0.9898 - val_loss: 0.0315\n",
      "Epoch 6/10\n",
      "\u001b[1m1875/1875\u001b[0m \u001b[32m━━━━━━━━━━━━━━━━━━━━\u001b[0m\u001b[37m\u001b[0m \u001b[1m36s\u001b[0m 19ms/step - accuracy: 0.9905 - loss: 0.0314 - val_accuracy: 0.9927 - val_loss: 0.0265\n",
      "Epoch 7/10\n",
      "\u001b[1m1875/1875\u001b[0m \u001b[32m━━━━━━━━━━━━━━━━━━━━\u001b[0m\u001b[37m\u001b[0m \u001b[1m38s\u001b[0m 20ms/step - accuracy: 0.9925 - loss: 0.0238 - val_accuracy: 0.9922 - val_loss: 0.0237\n",
      "Epoch 8/10\n",
      "\u001b[1m1875/1875\u001b[0m \u001b[32m━━━━━━━━━━━━━━━━━━━━\u001b[0m\u001b[37m\u001b[0m \u001b[1m39s\u001b[0m 21ms/step - accuracy: 0.9927 - loss: 0.0224 - val_accuracy: 0.9942 - val_loss: 0.0214\n",
      "Epoch 9/10\n",
      "\u001b[1m1875/1875\u001b[0m \u001b[32m━━━━━━━━━━━━━━━━━━━━\u001b[0m\u001b[37m\u001b[0m \u001b[1m40s\u001b[0m 21ms/step - accuracy: 0.9932 - loss: 0.0200 - val_accuracy: 0.9916 - val_loss: 0.0297\n",
      "Epoch 10/10\n",
      "\u001b[1m1875/1875\u001b[0m \u001b[32m━━━━━━━━━━━━━━━━━━━━\u001b[0m\u001b[37m\u001b[0m \u001b[1m34s\u001b[0m 18ms/step - accuracy: 0.9947 - loss: 0.0173 - val_accuracy: 0.9940 - val_loss: 0.0225\n"
     ]
    },
    {
     "name": "stderr",
     "output_type": "stream",
     "text": [
      "WARNING:absl:You are saving your model as an HDF5 file via `model.save()` or `keras.saving.save_model(model)`. This file format is considered legacy. We recommend using instead the native Keras format, e.g. `model.save('my_model.keras')` or `keras.saving.save_model(model, 'my_model.keras')`. \n"
     ]
    }
   ],
   "source": [
    "(x_train, y_train), (x_test, y_test) = mnist.load_data()\n",
    "\n",
    "x_train = x_train.astype('float32') / 255.0\n",
    "x_test = x_test.astype('float32') / 255.0\n",
    "\n",
    "x_train = x_train.reshape(x_train.shape[0], 28, 28, 1)\n",
    "x_test = x_test.reshape(x_test.shape[0], 28, 28, 1)\n",
    "\n",
    "y_train = to_categorical(y_train, num_classes=10)\n",
    "y_test = to_categorical(y_test, num_classes=10)\n",
    "\n",
    "model = Sequential([\n",
    "    Conv2D(32, (3, 3), activation='relu', input_shape=(28, 28, 1)),\n",
    "    MaxPooling2D(pool_size=(2, 2)),\n",
    "    Conv2D(64, (3, 3), activation='relu'),\n",
    "    MaxPooling2D(pool_size=(2, 2)),\n",
    "    Flatten(),\n",
    "    Dense(128, activation='relu'),\n",
    "    Dropout(0.5),\n",
    "    Dense(10, activation='softmax') \n",
    "])\n",
    "\n",
    "model.compile(optimizer='adam', loss='categorical_crossentropy', metrics=['accuracy'])\n",
    "\n",
    "model.fit(x_train, y_train, validation_data=(x_test, y_test), epochs=10, batch_size=32)\n",
    "\n",
    "model.save('handwritten_digit_model.h5')"
   ]
  },
  {
   "cell_type": "code",
   "execution_count": 6,
   "id": "9b758f82",
   "metadata": {},
   "outputs": [
    {
     "name": "stdout",
     "output_type": "stream",
     "text": [
      "Collecting opencv-python\n",
      "  Obtaining dependency information for opencv-python from https://files.pythonhosted.org/packages/ec/6c/fab8113424af5049f85717e8e527ca3773299a3c6b02506e66436e19874f/opencv_python-4.10.0.84-cp37-abi3-win_amd64.whl.metadata\n",
      "  Downloading opencv_python-4.10.0.84-cp37-abi3-win_amd64.whl.metadata (20 kB)\n",
      "Requirement already satisfied: numpy>=1.21.2 in c:\\users\\shree\\anaconda3\\lib\\site-packages (from opencv-python) (1.24.3)\n",
      "Downloading opencv_python-4.10.0.84-cp37-abi3-win_amd64.whl (38.8 MB)\n",
      "   ---------------------------------------- 0.0/38.8 MB ? eta -:--:--\n",
      "   ---------------------------------------- 0.1/38.8 MB ? eta -:--:--\n",
      "   ---------------------------------------- 0.1/38.8 MB 2.0 MB/s eta 0:00:20\n",
      "   ---------------------------------------- 0.2/38.8 MB 1.7 MB/s eta 0:00:23\n",
      "   ---------------------------------------- 0.4/38.8 MB 2.8 MB/s eta 0:00:14\n",
      "    --------------------------------------- 0.5/38.8 MB 3.0 MB/s eta 0:00:13\n",
      "    --------------------------------------- 0.9/38.8 MB 4.3 MB/s eta 0:00:09\n",
      "   - -------------------------------------- 1.3/38.8 MB 4.9 MB/s eta 0:00:08\n",
      "   - -------------------------------------- 1.7/38.8 MB 5.8 MB/s eta 0:00:07\n",
      "   -- ------------------------------------- 2.0/38.8 MB 6.2 MB/s eta 0:00:06\n",
      "   -- ------------------------------------- 2.0/38.8 MB 6.2 MB/s eta 0:00:06\n",
      "   -- ------------------------------------- 2.0/38.8 MB 5.0 MB/s eta 0:00:08\n",
      "   -- ------------------------------------- 2.3/38.8 MB 5.0 MB/s eta 0:00:08\n",
      "   --- ------------------------------------ 3.3/38.8 MB 6.7 MB/s eta 0:00:06\n",
      "   --- ------------------------------------ 3.4/38.8 MB 6.4 MB/s eta 0:00:06\n",
      "   --- ------------------------------------ 3.7/38.8 MB 6.4 MB/s eta 0:00:06\n",
      "   --- ------------------------------------ 3.9/38.8 MB 6.3 MB/s eta 0:00:06\n",
      "   ---- ----------------------------------- 4.2/38.8 MB 6.4 MB/s eta 0:00:06\n",
      "   ----- ---------------------------------- 4.9/38.8 MB 7.1 MB/s eta 0:00:05\n",
      "   ----- ---------------------------------- 5.2/38.8 MB 7.1 MB/s eta 0:00:05\n",
      "   ----- ---------------------------------- 5.4/38.8 MB 7.1 MB/s eta 0:00:05\n",
      "   ----- ---------------------------------- 5.8/38.8 MB 7.1 MB/s eta 0:00:05\n",
      "   ------ --------------------------------- 6.1/38.8 MB 7.1 MB/s eta 0:00:05\n",
      "   ------ --------------------------------- 6.4/38.8 MB 7.2 MB/s eta 0:00:05\n",
      "   ------ --------------------------------- 6.7/38.8 MB 7.2 MB/s eta 0:00:05\n",
      "   ------- -------------------------------- 7.1/38.8 MB 7.3 MB/s eta 0:00:05\n",
      "   ------- -------------------------------- 7.3/38.8 MB 7.1 MB/s eta 0:00:05\n",
      "   ------- -------------------------------- 7.7/38.8 MB 7.3 MB/s eta 0:00:05\n",
      "   -------- ------------------------------- 8.0/38.8 MB 7.3 MB/s eta 0:00:05\n",
      "   -------- ------------------------------- 8.3/38.8 MB 7.3 MB/s eta 0:00:05\n",
      "   -------- ------------------------------- 8.6/38.8 MB 7.3 MB/s eta 0:00:05\n",
      "   --------- ------------------------------ 8.9/38.8 MB 7.3 MB/s eta 0:00:05\n",
      "   --------- ------------------------------ 9.2/38.8 MB 7.4 MB/s eta 0:00:05\n",
      "   --------- ------------------------------ 9.5/38.8 MB 7.3 MB/s eta 0:00:04\n",
      "   ---------- ----------------------------- 9.8/38.8 MB 7.4 MB/s eta 0:00:04\n",
      "   ---------- ----------------------------- 10.1/38.8 MB 7.4 MB/s eta 0:00:04\n",
      "   ---------- ----------------------------- 10.5/38.8 MB 7.8 MB/s eta 0:00:04\n",
      "   ----------- ---------------------------- 10.7/38.8 MB 7.9 MB/s eta 0:00:04\n",
      "   ----------- ---------------------------- 11.0/38.8 MB 7.9 MB/s eta 0:00:04\n",
      "   ----------- ---------------------------- 11.1/38.8 MB 7.8 MB/s eta 0:00:04\n",
      "   ------------ --------------------------- 11.7/38.8 MB 7.8 MB/s eta 0:00:04\n",
      "   ------------ --------------------------- 12.0/38.8 MB 7.8 MB/s eta 0:00:04\n",
      "   ------------ --------------------------- 12.3/38.8 MB 8.3 MB/s eta 0:00:04\n",
      "   ------------- -------------------------- 12.6/38.8 MB 8.2 MB/s eta 0:00:04\n",
      "   ------------- -------------------------- 12.9/38.8 MB 8.2 MB/s eta 0:00:04\n",
      "   ------------- -------------------------- 13.2/38.8 MB 7.9 MB/s eta 0:00:04\n",
      "   ------------- -------------------------- 13.5/38.8 MB 7.9 MB/s eta 0:00:04\n",
      "   -------------- ------------------------- 13.8/38.8 MB 8.0 MB/s eta 0:00:04\n",
      "   -------------- ------------------------- 14.1/38.8 MB 8.1 MB/s eta 0:00:04\n",
      "   -------------- ------------------------- 14.5/38.8 MB 7.9 MB/s eta 0:00:04\n",
      "   --------------- ------------------------ 14.7/38.8 MB 7.7 MB/s eta 0:00:04\n",
      "   --------------- ------------------------ 15.2/38.8 MB 7.6 MB/s eta 0:00:04\n",
      "   --------------- ------------------------ 15.5/38.8 MB 7.6 MB/s eta 0:00:04\n",
      "   ---------------- ----------------------- 15.8/38.8 MB 7.7 MB/s eta 0:00:03\n",
      "   ---------------- ----------------------- 16.0/38.8 MB 7.6 MB/s eta 0:00:03\n",
      "   ----------------- ---------------------- 16.5/38.8 MB 7.8 MB/s eta 0:00:03\n",
      "   ----------------- ---------------------- 16.9/38.8 MB 7.8 MB/s eta 0:00:03\n",
      "   ----------------- ---------------------- 16.9/38.8 MB 7.8 MB/s eta 0:00:03\n",
      "   ----------------- ---------------------- 17.0/38.8 MB 7.4 MB/s eta 0:00:03\n",
      "   ----------------- ---------------------- 17.3/38.8 MB 7.4 MB/s eta 0:00:03\n",
      "   ------------------ --------------------- 17.8/38.8 MB 7.7 MB/s eta 0:00:03\n",
      "   ------------------ --------------------- 18.4/38.8 MB 7.7 MB/s eta 0:00:03\n",
      "   ------------------- -------------------- 18.6/38.8 MB 7.7 MB/s eta 0:00:03\n",
      "   ------------------- -------------------- 19.1/38.8 MB 7.9 MB/s eta 0:00:03\n",
      "   ------------------- -------------------- 19.1/38.8 MB 7.8 MB/s eta 0:00:03\n",
      "   -------------------- ------------------- 19.6/38.8 MB 7.7 MB/s eta 0:00:03\n",
      "   -------------------- ------------------- 19.7/38.8 MB 7.6 MB/s eta 0:00:03\n",
      "   -------------------- ------------------- 20.1/38.8 MB 7.6 MB/s eta 0:00:03\n",
      "   --------------------- ------------------ 20.5/38.8 MB 7.7 MB/s eta 0:00:03\n",
      "   --------------------- ------------------ 20.9/38.8 MB 7.8 MB/s eta 0:00:03\n",
      "   ---------------------- ----------------- 21.5/38.8 MB 8.2 MB/s eta 0:00:03\n",
      "   ---------------------- ----------------- 21.8/38.8 MB 8.0 MB/s eta 0:00:03\n",
      "   ---------------------- ----------------- 21.9/38.8 MB 8.0 MB/s eta 0:00:03\n",
      "   ---------------------- ----------------- 22.3/38.8 MB 7.8 MB/s eta 0:00:03\n",
      "   ----------------------- ---------------- 22.8/38.8 MB 8.1 MB/s eta 0:00:02\n",
      "   ----------------------- ---------------- 23.1/38.8 MB 8.1 MB/s eta 0:00:02\n",
      "   ----------------------- ---------------- 23.2/38.8 MB 7.9 MB/s eta 0:00:02\n",
      "   ------------------------ --------------- 23.3/38.8 MB 7.9 MB/s eta 0:00:02\n",
      "   ------------------------ --------------- 23.8/38.8 MB 7.9 MB/s eta 0:00:02\n",
      "   ------------------------ --------------- 24.2/38.8 MB 8.0 MB/s eta 0:00:02\n",
      "   ------------------------- -------------- 24.3/38.8 MB 7.9 MB/s eta 0:00:02\n",
      "   ------------------------- -------------- 24.6/38.8 MB 7.8 MB/s eta 0:00:02\n",
      "   ------------------------- -------------- 25.2/38.8 MB 8.3 MB/s eta 0:00:02\n",
      "   -------------------------- ------------- 25.7/38.8 MB 8.2 MB/s eta 0:00:02\n",
      "   -------------------------- ------------- 26.0/38.8 MB 8.1 MB/s eta 0:00:02\n",
      "   -------------------------- ------------- 26.1/38.8 MB 8.0 MB/s eta 0:00:02\n",
      "   --------------------------- ------------ 26.5/38.8 MB 8.3 MB/s eta 0:00:02\n",
      "   --------------------------- ------------ 27.0/38.8 MB 8.2 MB/s eta 0:00:02\n",
      "   ---------------------------- ----------- 27.3/38.8 MB 8.5 MB/s eta 0:00:02\n",
      "   ---------------------------- ----------- 27.5/38.8 MB 8.5 MB/s eta 0:00:02\n",
      "   ---------------------------- ----------- 27.8/38.8 MB 8.3 MB/s eta 0:00:02\n",
      "   ---------------------------- ----------- 28.1/38.8 MB 8.2 MB/s eta 0:00:02\n",
      "   ----------------------------- ---------- 28.4/38.8 MB 8.1 MB/s eta 0:00:02\n",
      "   ----------------------------- ---------- 28.7/38.8 MB 8.0 MB/s eta 0:00:02\n",
      "   ----------------------------- ---------- 29.0/38.8 MB 8.2 MB/s eta 0:00:02\n",
      "   ----------------------------- ---------- 29.1/38.8 MB 8.0 MB/s eta 0:00:02\n",
      "   ------------------------------ --------- 29.5/38.8 MB 8.3 MB/s eta 0:00:02\n",
      "   ------------------------------ --------- 30.0/38.8 MB 8.4 MB/s eta 0:00:02\n",
      "   ------------------------------- -------- 30.3/38.8 MB 8.2 MB/s eta 0:00:02\n",
      "   ------------------------------- -------- 30.6/38.8 MB 8.1 MB/s eta 0:00:02\n",
      "   -------------------------------- ------- 31.2/38.8 MB 8.3 MB/s eta 0:00:01\n",
      "   -------------------------------- ------- 31.2/38.8 MB 8.3 MB/s eta 0:00:01\n",
      "   -------------------------------- ------- 31.4/38.8 MB 7.9 MB/s eta 0:00:01\n",
      "   -------------------------------- ------- 31.7/38.8 MB 7.7 MB/s eta 0:00:01\n",
      "   -------------------------------- ------- 31.9/38.8 MB 7.6 MB/s eta 0:00:01\n",
      "   --------------------------------- ------ 32.1/38.8 MB 7.9 MB/s eta 0:00:01\n",
      "   --------------------------------- ------ 32.6/38.8 MB 7.8 MB/s eta 0:00:01\n",
      "   --------------------------------- ------ 33.0/38.8 MB 7.7 MB/s eta 0:00:01\n",
      "   ---------------------------------- ----- 33.1/38.8 MB 7.5 MB/s eta 0:00:01\n",
      "   ---------------------------------- ----- 33.3/38.8 MB 7.5 MB/s eta 0:00:01\n",
      "   ---------------------------------- ----- 33.5/38.8 MB 7.5 MB/s eta 0:00:01\n",
      "   ----------------------------------- ---- 34.0/38.8 MB 7.9 MB/s eta 0:00:01\n",
      "   ----------------------------------- ---- 34.3/38.8 MB 7.7 MB/s eta 0:00:01\n",
      "   ----------------------------------- ---- 34.5/38.8 MB 7.7 MB/s eta 0:00:01\n",
      "   ----------------------------------- ---- 34.9/38.8 MB 7.8 MB/s eta 0:00:01\n",
      "   ------------------------------------ --- 35.0/38.8 MB 7.6 MB/s eta 0:00:01\n",
      "   ------------------------------------ --- 35.0/38.8 MB 7.4 MB/s eta 0:00:01\n",
      "   ------------------------------------ --- 35.7/38.8 MB 7.4 MB/s eta 0:00:01\n",
      "   ------------------------------------- -- 36.0/38.8 MB 7.5 MB/s eta 0:00:01\n",
      "   ------------------------------------- -- 36.3/38.8 MB 7.4 MB/s eta 0:00:01\n",
      "   ------------------------------------- -- 36.4/38.8 MB 7.4 MB/s eta 0:00:01\n",
      "   ------------------------------------- -- 36.6/38.8 MB 7.2 MB/s eta 0:00:01\n",
      "   -------------------------------------- - 37.1/38.8 MB 7.2 MB/s eta 0:00:01\n",
      "   -------------------------------------- - 37.4/38.8 MB 7.2 MB/s eta 0:00:01\n",
      "   -------------------------------------- - 37.6/38.8 MB 7.1 MB/s eta 0:00:01\n",
      "   ---------------------------------------  37.9/38.8 MB 7.3 MB/s eta 0:00:01\n",
      "   ---------------------------------------  38.1/38.8 MB 7.1 MB/s eta 0:00:01\n",
      "   ---------------------------------------  38.4/38.8 MB 7.2 MB/s eta 0:00:01\n",
      "   ---------------------------------------  38.5/38.8 MB 7.0 MB/s eta 0:00:01\n",
      "   ---------------------------------------  38.8/38.8 MB 7.0 MB/s eta 0:00:01\n",
      "   ---------------------------------------  38.8/38.8 MB 7.0 MB/s eta 0:00:01\n",
      "   ---------------------------------------  38.8/38.8 MB 7.0 MB/s eta 0:00:01\n",
      "   ---------------------------------------  38.8/38.8 MB 7.0 MB/s eta 0:00:01\n",
      "   ---------------------------------------- 38.8/38.8 MB 6.2 MB/s eta 0:00:00\n",
      "Installing collected packages: opencv-python\n",
      "Successfully installed opencv-python-4.10.0.84\n"
     ]
    }
   ],
   "source": [
    "!pip install opencv-python"
   ]
  },
  {
   "cell_type": "code",
   "execution_count": 10,
   "id": "2f52ae7c",
   "metadata": {},
   "outputs": [
    {
     "name": "stderr",
     "output_type": "stream",
     "text": [
      "WARNING:absl:Compiled the loaded model, but the compiled metrics have yet to be built. `model.compile_metrics` will be empty until you train or evaluate the model.\n"
     ]
    },
    {
     "name": "stdout",
     "output_type": "stream",
     "text": [
      "\u001b[1m1/1\u001b[0m \u001b[32m━━━━━━━━━━━━━━━━━━━━\u001b[0m\u001b[37m\u001b[0m \u001b[1m0s\u001b[0m 101ms/step\n",
      "Predicted digit: 8\n"
     ]
    }
   ],
   "source": [
    "import numpy as np\n",
    "import cv2\n",
    "from tensorflow.keras.models import load_model\n",
    "from tensorflow.keras.preprocessing.image import load_img, img_to_array\n",
    "\n",
    "model = load_model('handwritten_digit_model.h5')\n",
    "\n",
    "def preprocess_image(image_path):\n",
    "    image = load_img(image_path, color_mode='grayscale', target_size=(28, 28))\n",
    "    image_array = img_to_array(image) / 255.0\n",
    "    image_array = np.expand_dims(image_array, axis=0)\n",
    "    return image_array\n",
    "\n",
    "def predict_number(image_path):\n",
    "    image_array = preprocess_image(image_path)\n",
    "    prediction = np.argmax(model.predict(image_array), axis=-1)\n",
    "    return prediction[0]\n",
    "\n",
    "test_image = '49.jpeg'\n",
    "predicted_digit = predict_number(test_image)\n",
    "print(f'Predicted digit: {predicted_digit}')\n"
   ]
  },
  {
   "cell_type": "code",
   "execution_count": null,
   "id": "3fce2ca2",
   "metadata": {},
   "outputs": [],
   "source": []
  }
 ],
 "metadata": {
  "kernelspec": {
   "display_name": "Python 3 (ipykernel)",
   "language": "python",
   "name": "python3"
  },
  "language_info": {
   "codemirror_mode": {
    "name": "ipython",
    "version": 3
   },
   "file_extension": ".py",
   "mimetype": "text/x-python",
   "name": "python",
   "nbconvert_exporter": "python",
   "pygments_lexer": "ipython3",
   "version": "3.11.4"
  }
 },
 "nbformat": 4,
 "nbformat_minor": 5
}
